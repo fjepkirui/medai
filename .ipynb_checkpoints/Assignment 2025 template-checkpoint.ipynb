{
 "cells": [
  {
   "cell_type": "markdown",
   "metadata": {},
   "source": [
    "# Applied Project Specification\n",
    "\n",
    "## MATH7002 Advanced Statistical Methods\n",
    "\n",
    "**Due Date:** EOD Sunday of Week 14\n",
    "\n",
    "---"
   ]
  },
  {
   "cell_type": "markdown",
   "metadata": {},
   "source": [
    "Student name: *Your name*\n",
    "\n",
    "Student ID: *Your SID*"
   ]
  },
  {
   "cell_type": "markdown",
   "metadata": {},
   "source": [
    "## Submission\n",
    "\n",
    "The project report is due in by 11:59 p.m. on the Sunday of week 14. The report must be submitted as a single jupyter notebook file (__all code cells must be executed already and hence contain computation results__) using the assignment submission facilities in the \"Assignment: Applied Project (40%)\" section of MATH7002 in vUWS.\n",
    "\n",
    "## Declaration\n",
    "\n",
    "*The following declaration must be included in this notebook with your name printed down below:*\n",
    "\n",
    "\n",
    "By including this statement, we the authors of this work, verify that:\n",
    "\n",
    "- I hold a copy of this assignment that we can produce if the original is lost or damaged.\n",
    "- I hereby certify that no part of this assignment/product has been copied from any other student's work or from any other source except where due acknowledgement is made in the assignment.\n",
    "- No part of this assignment/product has been written/produced for us by another person except where such collaboration has been authorised by the subject lecturer/tutor concerned.\n",
    "- I am aware that this work may be reproduced and submitted to plagiarism detection algorithms (either software or some measure) for the purpose of detecting possible plagiarism (**which may retain a copy on its database for future plagiarism checking**).\n",
    "- I hereby certify that we have read and understand what the School of Computing and Mathematics defines as minor and substantial breaches of misconduct as outlined in the learning guide for this subject.\n",
    "\n",
    "**Print your name below:**"
   ]
  },
  {
   "cell_type": "markdown",
   "metadata": {},
   "source": [
    "*your name*"
   ]
  },
  {
   "cell_type": "markdown",
   "metadata": {},
   "source": [
    "**Note: An examiner or lecturer/tutor has the right not to mark this project report if this declaration has not been added to the submission or not signed with your name.**"
   ]
  },
  {
   "cell_type": "markdown",
   "metadata": {},
   "source": [
    "---"
   ]
  },
  {
   "cell_type": "markdown",
   "metadata": {},
   "source": [
    "## Requirement\n",
    "Write a report containing your code and analysis of the data with each section clearly labelled in the following. Clearly annotate your code and make sure to state any conclusions you make from each piece of analysis. This notebook, serving as your report, will be marked using the marking criteria (refer to the PDF), so make sure that each piece of analysis covers all of the criteria."
   ]
  },
  {
   "cell_type": "markdown",
   "metadata": {},
   "source": [
    "## Project Description\n",
    "\n",
    "The NSW Fire Rescue Services have collected data over the past few years describing fires that they have attended to. The variables recorded for each fire are:\n",
    "\n",
    "- Location of the fire, provided as latitude and longitude.\n",
    "- Type of land where the fire occurred.\n",
    "- The duration of the fire in hours.\n",
    "- The ambient temperature in degrees Celsius and humidity as a percentage.\n",
    "\n",
    "The data is provided in the file `fire2024.csv`, __assuming stored in the same folder as this notebook__. You have been hired as a consultant to analyse their data and help provide insight in to their four questions below."
   ]
  },
  {
   "cell_type": "markdown",
   "metadata": {},
   "source": [
    "### Allocating Equipment\n",
    "\n",
    "The fire rescue services have equipment that deals with fires based on the duration of the fire, but they have limited equipment. They plan to distribute their range of equipment to each fire station based on the duration of the fires, where fire stations are categorised based on the type of land they occupy. Provide plots for the probability of each land type, given the duration of a fire."
   ]
  },
  {
   "cell_type": "markdown",
   "metadata": {},
   "source": [
    "#### Your answer to this question goes from here. Add markdown and code cells when necessary. "
   ]
  },
  {
   "cell_type": "code",
   "execution_count": null,
   "metadata": {},
   "outputs": [],
   "source": [
    "# Your code starts from here."
   ]
  },
  {
   "cell_type": "markdown",
   "metadata": {},
   "source": [
    "---"
   ]
  },
  {
   "cell_type": "markdown",
   "metadata": {},
   "source": [
    "### Seasonal Effect\n",
    "\n",
    "The head of fire safety has realised that the collected data does not have the dates of the fires recorded and that the time of year is likely to effect the duration of a fire. Fit a mixture model to the temperature variable to determine if seasonality can be identified."
   ]
  },
  {
   "cell_type": "markdown",
   "metadata": {},
   "source": [
    "#### Your answer to this question goes from here. Add markdown and code cells when necessary. "
   ]
  },
  {
   "cell_type": "code",
   "execution_count": null,
   "metadata": {},
   "outputs": [],
   "source": [
    "# Your code starts from here."
   ]
  },
  {
   "cell_type": "markdown",
   "metadata": {},
   "source": [
    "---"
   ]
  },
  {
   "cell_type": "markdown",
   "metadata": {},
   "source": [
    "### Effect of Humidity on Duration\n",
    "\n",
    "Information from the Fire Rescue Services team shows that the duration of a fire is dependent on the humidity, but they are unsure if there are any hidden factors that have not been taken into account. Use a mixture of linear regressions to investigate if there are potential hidden factors."
   ]
  },
  {
   "cell_type": "markdown",
   "metadata": {},
   "source": [
    "#### Your answer to this question goes from here. Add markdown and code cells when necessary. "
   ]
  },
  {
   "cell_type": "code",
   "execution_count": null,
   "metadata": {},
   "outputs": [],
   "source": [
    "# Your code starts from here."
   ]
  },
  {
   "cell_type": "markdown",
   "metadata": {},
   "source": [
    "---"
   ]
  },
  {
   "cell_type": "markdown",
   "metadata": {},
   "source": [
    "### Location of Fires\n",
    "\n",
    "Finally, the Fire Rescue Services require density estimates for fire locations across NSW to help them position their stations. Plot and provide details of a model with computed coefficients that will allow them to compute the density estimate of a fire occurring, when given the location (latitude and longitude).\n",
    "\n",
    "Due to the nature in which fire spreads, it is assumed that the fire locations can be modeled with a set of two dimensional Normal Density. Provide a model of the fire locations using a mixture of 2d Normal Density and examine if the mixture components are associated to the land type."
   ]
  },
  {
   "cell_type": "markdown",
   "metadata": {},
   "source": [
    "#### Your answer to this question goes from here. Add markdown and code cells when necessary. "
   ]
  },
  {
   "cell_type": "code",
   "execution_count": null,
   "metadata": {},
   "outputs": [],
   "source": [
    "# Your code starts from here."
   ]
  }
 ],
 "metadata": {
  "kernelspec": {
   "display_name": "R",
   "language": "R",
   "name": "ir"
  },
  "language_info": {
   "codemirror_mode": "r",
   "file_extension": ".r",
   "mimetype": "text/x-r-source",
   "name": "R"
  }
 },
 "nbformat": 4,
 "nbformat_minor": 4
}
