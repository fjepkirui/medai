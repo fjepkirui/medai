{
 "cells": [
  {
   "cell_type": "markdown",
   "id": "2cac0911-0c4c-422f-8df8-a66445a53dcf",
   "metadata": {},
   "source": [
    "# MATH7002 Advanced Statistical methods\n",
    "## Worksheet 8"
   ]
  },
  {
   "cell_type": "markdown",
   "id": "5ff8027b-abf9-4812-a063-2e67c44f317c",
   "metadata": {},
   "source": [
    "1. Consider the following 2 variable linear program.\n",
    "\n",
    "\\begin{align*}\n",
    "\\text{Maximize  }&& z=4x_1+6x_2 &\\\\\n",
    "\\text{subject to  }&&  6x_1+5x_2 &\\le 60\\\\\n",
    "&&x_1&\\le 7\\\\\n",
    "&&x_2 &\\le 7\\\\\n",
    "&&x_1,x_2 &\\ge 0\\\\\n",
    "\\end{align*}\n",
    "\n",
    "a. Sketch the feasible region."
   ]
  },
  {
   "cell_type": "code",
   "execution_count": null,
   "id": "68d7f1c3-7ed4-4cc7-8d7e-0702d1ba1efb",
   "metadata": {},
   "outputs": [],
   "source": []
  },
  {
   "cell_type": "markdown",
   "id": "c3bf0a30-32fc-45e5-afa0-6b0374a77503",
   "metadata": {},
   "source": [
    "b. Find the optimal solution.\n",
    "    "
   ]
  },
  {
   "cell_type": "code",
   "execution_count": null,
   "id": "5656e95a-70d4-4804-ad1f-303f156cef1a",
   "metadata": {},
   "outputs": [],
   "source": []
  },
  {
   "cell_type": "markdown",
   "id": "ce353c7d-4963-48af-aac7-ae23053bdbb4",
   "metadata": {},
   "source": [
    "2. Consider the linear programming problem below.\n",
    "\n",
    "\\begin{align*}\n",
    "\\text{Maximise} &&  z = 20x_1 + 15x_2 + 10x_3&  \\\\\n",
    "\\text{Subject to} && 2x_1+x_2+3x_3 & \\le 42\\\\\n",
    "&&2x_1+x_2+2x_3 & \\le 40\\\\\n",
    "&&x_1+2x_2+x_3 & \\le 45\\\\\n",
    "&&x_1,x_2,x_3 & \\ge 0\n",
    "\\end{align*}\n",
    "\n",
    "Using the simplex method find the optimal values of $x_1$,\n",
    "  $x_2$, $x_3$ and $z$."
   ]
  },
  {
   "cell_type": "markdown",
   "id": "68d0536e",
   "metadata": {},
   "source": [
    "3.  At a preschool lunch is provided. The following table shows the available food products."
   ]
  },
  {
   "cell_type": "code",
   "execution_count": 4,
   "id": "e0aca2da",
   "metadata": {
    "eval": true,
    "tags": [
     "remove_input"
    ]
   },
   "outputs": [
    {
     "data": {
      "text/plain": [
       "<table>\n",
       "<caption></caption>\n",
       " <thead>\n",
       "  <tr>\n",
       "   <th style=\"text-align:left;\">   </th>\n",
       "   <th style=\"text-align:right;\"> Calories from Fat </th>\n",
       "   <th style=\"text-align:right;\"> Total Calories </th>\n",
       "   <th style=\"text-align:right;\"> Vitamin C (mg) </th>\n",
       "   <th style=\"text-align:right;\"> Protein (g) </th>\n",
       "   <th style=\"text-align:right;\"> Cost (c) </th>\n",
       "  </tr>\n",
       " </thead>\n",
       "<tbody>\n",
       "  <tr>\n",
       "   <td style=\"text-align:left;\"> Bread (1 slice) </td>\n",
       "   <td style=\"text-align:right;\"> 10 </td>\n",
       "   <td style=\"text-align:right;\"> 70 </td>\n",
       "   <td style=\"text-align:right;\"> 0 </td>\n",
       "   <td style=\"text-align:right;\"> 3 </td>\n",
       "   <td style=\"text-align:right;\"> 5 </td>\n",
       "  </tr>\n",
       "  <tr>\n",
       "   <td style=\"text-align:left;\"> Peanut Butter (1 tbsp) </td>\n",
       "   <td style=\"text-align:right;\"> 75 </td>\n",
       "   <td style=\"text-align:right;\"> 100 </td>\n",
       "   <td style=\"text-align:right;\"> 0 </td>\n",
       "   <td style=\"text-align:right;\"> 4 </td>\n",
       "   <td style=\"text-align:right;\"> 4 </td>\n",
       "  </tr>\n",
       "  <tr>\n",
       "   <td style=\"text-align:left;\"> Jam (1 tbsp) </td>\n",
       "   <td style=\"text-align:right;\"> 0 </td>\n",
       "   <td style=\"text-align:right;\"> 50 </td>\n",
       "   <td style=\"text-align:right;\"> 3 </td>\n",
       "   <td style=\"text-align:right;\"> 0 </td>\n",
       "   <td style=\"text-align:right;\"> 7 </td>\n",
       "  </tr>\n",
       "  <tr>\n",
       "   <td style=\"text-align:left;\"> Cracker (1) </td>\n",
       "   <td style=\"text-align:right;\"> 20 </td>\n",
       "   <td style=\"text-align:right;\"> 60 </td>\n",
       "   <td style=\"text-align:right;\"> 0 </td>\n",
       "   <td style=\"text-align:right;\"> 1 </td>\n",
       "   <td style=\"text-align:right;\"> 8 </td>\n",
       "  </tr>\n",
       "  <tr>\n",
       "   <td style=\"text-align:left;\"> Milk (1 cup) </td>\n",
       "   <td style=\"text-align:right;\"> 70 </td>\n",
       "   <td style=\"text-align:right;\"> 150 </td>\n",
       "   <td style=\"text-align:right;\"> 2 </td>\n",
       "   <td style=\"text-align:right;\"> 8 </td>\n",
       "   <td style=\"text-align:right;\"> 15 </td>\n",
       "  </tr>\n",
       "  <tr>\n",
       "   <td style=\"text-align:left;\"> Juice (1 cup) </td>\n",
       "   <td style=\"text-align:right;\"> 0 </td>\n",
       "   <td style=\"text-align:right;\"> 100 </td>\n",
       "   <td style=\"text-align:right;\"> 120 </td>\n",
       "   <td style=\"text-align:right;\"> 1 </td>\n",
       "   <td style=\"text-align:right;\"> 35 </td>\n",
       "  </tr>\n",
       "</tbody>\n",
       "</table>"
      ]
     },
     "metadata": {},
     "output_type": "display_data"
    }
   ],
   "source": [
    "dat = c(10,75,0,20,70,0,\n",
    "        70,100,50,60,150,100,\n",
    "        0,0,3,0,2,120,\n",
    "        3,4,0,1,8,1,\n",
    "        5,4,7,8,15,35)\n",
    "dat=matrix(dat, ncol=5)\n",
    "library(kableExtra)\n",
    "colnames(dat) = c(\"Calories from Fat\", \"Total Calories\", \"Vitamin C (mg)\", \"Protein (g)\", \"Cost (c)\")\n",
    "rownames(dat) = c(\"Bread (1 slice)\", \"Peanut Butter (1 tbsp)\", \"Jam (1 tbsp)\", \"Cracker (1)\",\n",
    "                  \"Milk (1 cup)\", \"Juice (1 cup)\")\n",
    "kable(dat, caption=\"\")"
   ]
  },
  {
   "cell_type": "markdown",
   "id": "0059beca-f4fe-4d68-996d-ed137b022516",
   "metadata": {},
   "source": [
    "Each child should have \n",
    "\n",
    "+ between 400 and 600 calories\n",
    "+ no more that 30% of calories from fat\n",
    "+ at least 60mg of Vitamin C and 12g of protein\n",
    "+ exactly 2 slices of bread\n",
    "+ at least twice as much PB as Jam\n",
    "+ at least one cup of liquid\n",
    "\n",
    "Cost should minimised.\n",
    "\n",
    "a. Write as a linear program"
   ]
  },
  {
   "cell_type": "code",
   "execution_count": null,
   "id": "17103378-ec0f-4f7a-a92d-d08a13b5eb45",
   "metadata": {},
   "outputs": [],
   "source": []
  },
  {
   "cell_type": "markdown",
   "id": "c8dd30c5-7188-47a2-b7fe-e130b6ecddc4",
   "metadata": {},
   "source": [
    "b. Solve\n",
    "    "
   ]
  },
  {
   "cell_type": "code",
   "execution_count": null,
   "id": "fd4f03a3-9e2b-493a-86c2-564c07676745",
   "metadata": {},
   "outputs": [],
   "source": []
  }
 ],
 "metadata": {
  "jupytext": {
   "cell_metadata_filter": "tags,eval,child,-all",
   "formats": "Rmd,ipynb",
   "notebook_metadata_filter": "-all"
  },
  "kernelspec": {
   "display_name": "R",
   "language": "R",
   "name": "ir"
  },
  "language_info": {
   "codemirror_mode": "r",
   "file_extension": ".r",
   "mimetype": "text/x-r-source",
   "name": "R",
   "pygments_lexer": "r",
   "version": "4.2.1"
  }
 },
 "nbformat": 4,
 "nbformat_minor": 5
}
