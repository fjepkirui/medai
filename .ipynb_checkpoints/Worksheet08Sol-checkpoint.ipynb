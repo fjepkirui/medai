{
 "cells": [
  {
   "cell_type": "markdown",
   "id": "9283d601-4841-4905-9026-135b48caf464",
   "metadata": {},
   "source": [
    "# MATH7002 Advanced Statistical methods\n",
    "## Worksheet 8: Solutions"
   ]
  },
  {
   "cell_type": "markdown",
   "id": "cc5f13c3-1b57-4306-98b9-05028a9681f0",
   "metadata": {
    "lines_to_next_cell": 2
   },
   "source": [
    "## Q1"
   ]
  },
  {
   "cell_type": "code",
   "execution_count": null,
   "id": "a360bf47-5088-49c0-890e-05d10e525b5e",
   "metadata": {
    "lines_to_next_cell": 2
   },
   "outputs": [],
   "source": [
    "library(lpSolveAPI)\n",
    "source(\"lpplot.R\")\n",
    "lpplot(c(60,7,7), matrix(c(6,5, 1,0, 0,1), ncol=2, byrow=TRUE))\n",
    "text(4.167, 7, \"B\", adj = c(-1,-1))\n",
    "text(7,3.6, \"A\", adj = c(-1,-1))"
   ]
  },
  {
   "cell_type": "markdown",
   "id": "4121ddbe-3db3-469d-9078-96d7e46680ae",
   "metadata": {},
   "source": [
    "## Q2"
   ]
  },
  {
   "cell_type": "code",
   "execution_count": null,
   "id": "0f1d68cb-a65d-4075-9d42-904b1cfec463",
   "metadata": {},
   "outputs": [],
   "source": [
    "A <- matrix( c(2,1,3,\n",
    "               2,1,2,\n",
    "               1,2,1), ncol=3, byrow=TRUE)\n",
    "b <- c(42,40,45)"
   ]
  },
  {
   "cell_type": "code",
   "execution_count": null,
   "id": "b74620bf",
   "metadata": {},
   "outputs": [],
   "source": [
    "C <- c(20,15,10)"
   ]
  },
  {
   "cell_type": "code",
   "execution_count": null,
   "id": "0369e41f",
   "metadata": {},
   "outputs": [],
   "source": [
    "require(linprog)"
   ]
  },
  {
   "cell_type": "code",
   "execution_count": null,
   "id": "a5a82859",
   "metadata": {},
   "outputs": [],
   "source": [
    "solveLP(C, b, A, maximum=TRUE, verbose=4)"
   ]
  },
  {
   "cell_type": "markdown",
   "id": "322435d7",
   "metadata": {},
   "source": [
    "# Q3"
   ]
  },
  {
   "cell_type": "code",
   "execution_count": null,
   "id": "2abcac5b",
   "metadata": {},
   "outputs": [],
   "source": [
    "fat = c(10, 75, 0, 20, 70, 0)\n",
    "cal = c(70, 100, 50, 60, 150, 100)\n",
    "vitC = c(0, 0, 3, 0, 2, 120)\n",
    "prot = c(3, 4, 0, 1, 8, 1)"
   ]
  },
  {
   "cell_type": "code",
   "execution_count": null,
   "id": "61a0b02d",
   "metadata": {},
   "outputs": [],
   "source": [
    "cost = c(5, 4, 7, 8, 15, 35)"
   ]
  },
  {
   "cell_type": "code",
   "execution_count": null,
   "id": "f96829a7",
   "metadata": {},
   "outputs": [],
   "source": [
    "Amat = rbind(cal,cal,\n",
    "             0.3*cal-fat,\n",
    "             vitC, prot,\n",
    "             c(1,0,0,0,0,0),\n",
    "             c(0,1,-2,0,0,0),\n",
    "             c(0,0,0,0,1,1))"
   ]
  },
  {
   "cell_type": "code",
   "execution_count": null,
   "id": "667c0da2",
   "metadata": {},
   "outputs": [],
   "source": [
    "bvec = c( 400,  600,    0,   60,   12,   2,    0,    1)\n",
    "cdir = c(\">=\", \"<=\", \">=\", \">=\", \">=\", \"=\", \">=\", \">=\" )"
   ]
  },
  {
   "cell_type": "code",
   "execution_count": null,
   "id": "5b8afaf6",
   "metadata": {},
   "outputs": [],
   "source": [
    "solveLP(cost, bvec, Amat, maximum = FALSE, const.dir = cdir, lpSolve = TRUE)"
   ]
  },
  {
   "cell_type": "code",
   "execution_count": null,
   "id": "cc1ba9da",
   "metadata": {},
   "outputs": [],
   "source": [
    "require(lpSolve)\n",
    "sol = lp(direction = \"min\", objective.in = cost, \n",
    "         const.mat = Amat, const.dir = cdir, const.rhs = bvec)"
   ]
  },
  {
   "cell_type": "code",
   "execution_count": null,
   "id": "4d9f2d22",
   "metadata": {},
   "outputs": [],
   "source": [
    "sol\n",
    "sol$solution"
   ]
  },
  {
   "cell_type": "markdown",
   "id": "96b9d8f2",
   "metadata": {},
   "source": [
    "### This was meant to constrain the crackers to be an integer, only its broken"
   ]
  },
  {
   "cell_type": "code",
   "execution_count": null,
   "id": "7a09cdc7",
   "metadata": {},
   "outputs": [],
   "source": [
    "sol2 = lp(direction = \"min\", objective.in = cost, \n",
    "          const.mat = Amat, const.dir = cdir, const.rhs = bvec,\n",
    "          int.vec = 4)"
   ]
  },
  {
   "cell_type": "code",
   "execution_count": null,
   "id": "04832135",
   "metadata": {},
   "outputs": [],
   "source": [
    "sol2\n",
    "sol2$solution"
   ]
  }
 ],
 "metadata": {
  "jupytext": {
   "cell_metadata_filter": "-all",
   "formats": "auto:light,ipynb",
   "notebook_metadata_filter": "-all"
  },
  "kernelspec": {
   "display_name": "R",
   "language": "R",
   "name": "ir"
  },
  "language_info": {
   "codemirror_mode": "r",
   "file_extension": ".r",
   "mimetype": "text/x-r-source",
   "name": "R",
   "pygments_lexer": "r",
   "version": "4.2.1"
  }
 },
 "nbformat": 4,
 "nbformat_minor": 5
}
