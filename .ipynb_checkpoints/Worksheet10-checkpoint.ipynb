{
 "cells": [
  {
   "cell_type": "markdown",
   "id": "b6ec91f0-a2b8-4789-916a-7afbd8e4cf38",
   "metadata": {},
   "source": [
    "# MATH7002 Advanced Statistical methods\n",
    "## Worksheet 10"
   ]
  },
  {
   "cell_type": "markdown",
   "id": "206a53a9-a0c1-475f-a1f5-90fe46b517e6",
   "metadata": {
    "tags": []
   },
   "source": [
    "## Binomial Proportion\n",
    "\n",
    "|Log Dose|  0|  1|  2|  3|  4|  5|\n",
    "|--:|--:|--:|--:|--:|--:|--:|\n",
    "|Num Dead|  1|  4|  9| 13| 18| 20|\n",
    "\n",
    "1. The table above shows the number of tobacco budworms killed out of 20 at a given log dose of insecticide. Using a grid based computation with 51 grid points, and a prior that is flat on the range 0 to 0.9, compute the posterior for *each* of the log doses above."
   ]
  },
  {
   "cell_type": "code",
   "execution_count": null,
   "id": "a6a02786-42e9-49e3-98f5-84f245c88a26",
   "metadata": {},
   "outputs": [],
   "source": []
  },
  {
   "cell_type": "markdown",
   "id": "87cd0242-c6ed-41f9-8358-1ddc75a8e936",
   "metadata": {
    "tags": []
   },
   "source": [
    "## Two parameters\n",
    "\n",
    "2. Assume a prior that specifies two Binomial parameters are between 0.25 and 0.75. Data observed is 8 out of 20 for the first Binomial, and 25 out of 40 for the second. Compute and plot the posterior. Find a 95% credible interval for the difference in parameters."
   ]
  },
  {
   "cell_type": "code",
   "execution_count": null,
   "id": "f2d8c863-aaa1-4f77-8551-b09a4597d0db",
   "metadata": {},
   "outputs": [],
   "source": []
  },
  {
   "cell_type": "markdown",
   "id": "f23527df-5845-4a9d-a369-af622e4bdd3d",
   "metadata": {},
   "source": [
    "3. Find a 95% credible interval for the *ratio* of the parameters (first to second)."
   ]
  },
  {
   "cell_type": "code",
   "execution_count": null,
   "id": "b353a1e9-0fef-4808-919b-8e5fc55cf50e",
   "metadata": {},
   "outputs": [],
   "source": []
  },
  {
   "cell_type": "markdown",
   "id": "2a53bc64-7cdf-450b-a262-64b89d5d878d",
   "metadata": {},
   "source": [
    "4. **Bullseye.** The $x$ and $y$ coordinates of an arrow shot into a target are assumed to be independently Normally distributed with means $\\mu_x$ and $\\mu_y$ and standard deviation $s=1$ for both.  A prior for $\\mu_x$ and $\\mu_y$ is assumed, that is flat over the circular region of radius 2.\n",
    "\n",
    "a. Compute a grid based prior over the range -4 to 4 in both dimensions using 81 grid points."
   ]
  },
  {
   "cell_type": "code",
   "execution_count": null,
   "id": "f4c5efde-34cf-4f91-9416-8ef90aad49db",
   "metadata": {},
   "outputs": [],
   "source": []
  },
  {
   "cell_type": "markdown",
   "id": "cb970c28-afa5-4108-833a-aee515022e43",
   "metadata": {},
   "source": [
    "b. For a single obervation $x=1.34$ and $y=0.82$, computed the likelihood on the same grid."
   ]
  },
  {
   "cell_type": "code",
   "execution_count": null,
   "id": "13f135d6-64de-4471-8102-dc0bbd7bab42",
   "metadata": {},
   "outputs": [],
   "source": []
  },
  {
   "cell_type": "markdown",
   "id": "20529b25-dd9d-4d17-aa3f-64bef4ddfa42",
   "metadata": {},
   "source": [
    "c. Compute the posterior using the prior in a."
   ]
  },
  {
   "cell_type": "code",
   "execution_count": null,
   "id": "e7acdd34-5434-4a0c-b6a5-5ea29b1e2144",
   "metadata": {},
   "outputs": [],
   "source": []
  },
  {
   "cell_type": "markdown",
   "id": "b47daf6f-48ed-4575-ab51-ab1c4130a221",
   "metadata": {},
   "source": [
    "d. Find the posterior mean for $\\mu_x$ and $\\mu_y$ based on this grid.\n",
    "   "
   ]
  },
  {
   "cell_type": "code",
   "execution_count": null,
   "id": "75c943b2-6829-478e-8127-0d2d7467915e",
   "metadata": {},
   "outputs": [],
   "source": []
  }
 ],
 "metadata": {
  "jupytext": {
   "cell_metadata_filter": "child,-all",
   "formats": "Rmd,ipynb",
   "notebook_metadata_filter": "-all"
  },
  "kernelspec": {
   "display_name": "R",
   "language": "R",
   "name": "ir"
  },
  "language_info": {
   "codemirror_mode": "r",
   "file_extension": ".r",
   "mimetype": "text/x-r-source",
   "name": "R",
   "pygments_lexer": "r",
   "version": "4.2.1"
  }
 },
 "nbformat": 4,
 "nbformat_minor": 5
}
