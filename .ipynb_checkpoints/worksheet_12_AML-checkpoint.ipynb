{
 "cells": [
  {
   "cell_type": "code",
   "execution_count": null,
   "id": "7ce1fba8-4563-4e65-a165-0519a2d025fb",
   "metadata": {},
   "outputs": [],
   "source": [
    "import gymnasium as gym\n",
    "import numpy as np\n",
    "import matplotlib.pyplot as plt"
   ]
  },
  {
   "cell_type": "code",
   "execution_count": 7,
   "id": "9cb6355d-a905-4765-9a3f-7ba0be919654",
   "metadata": {},
   "outputs": [
    {
     "name": "stdout",
     "output_type": "stream",
     "text": [
      "Game created!\n",
      "Starting position and velocity: [-0.49955538  0.        ]\n"
     ]
    }
   ],
   "source": [
    "# Create the Mountain Car environment\n",
    "env = gym.make('MountainCar-v0')\n",
    "\n",
    "# Reset the game to start\n",
    "obs = env.reset()\n",
    "\n",
    "# Handle different gym versions\n",
    "if isinstance(obs, tuple):\n",
    "    obs = obs[0]\n",
    "\n",
    "print(\"Game created!\")\n",
    "print(f\"Starting position and velocity: {obs}\")"
   ]
  },
  {
   "cell_type": "code",
   "execution_count": null,
   "id": "c971dd72-109e-4989-9eff-270d1e576718",
   "metadata": {},
   "outputs": [],
   "source": [
    "def observation_to_state(env, obs, states=(40, 40)):\n",
    "    \"\"\"\n",
    "    Convert continuous position and velocity to discrete bins.\n",
    "    \n",
    "    obs[0] = position (like -0.445)\n",
    "    obs[1] = velocity (like 0.02)\n",
    "    \n",
    "    We convert to:\n",
    "    s0 = position bin (0 to 39)\n",
    "    s1 = velocity bin (0 to 39)\n",
    "    \"\"\"\n",
    "    \n",
    "    # Get the minimum and maximum possible values\n",
    "    low = env.observation_space.low    # [-1.2, -0.07]\n",
    "    high = env.observation_space.high  # [0.6, 0.07]\n",
    "    \n",
    "     # Convert position to bin number\n",
    "    # Step 1: Shift so minimum is 0\n",
    "    # Step 2: Divide by range to get 0 to 1\n",
    "    # Step 3: Multiply by 40 to get 0 to 40\n",
    "    # Step 4: Convert to integer\n",
    "    s0 = int((obs[0] - low[0]) / (high[0] - low[0]) * states[0])\n",
    "    \n",
    "    # Same for velocity\n",
    "    s1 = int((obs[1] - low[1]) / (high[1] - low[1]) * states[1])\n",
    "    \n",
    "    # Make sure we don't go over 39\n",
    "    s0 = min(s0, states[0] - 1)\n",
    "    s1 = min(s1, states[1] - 1)\n",
    "    \n",
    "    return s0, s1"
   ]
  }
 ],
 "metadata": {
  "kernelspec": {
   "display_name": "Python [conda env:base] *",
   "language": "python",
   "name": "conda-base-py"
  },
  "language_info": {
   "codemirror_mode": {
    "name": "ipython",
    "version": 3
   },
   "file_extension": ".py",
   "mimetype": "text/x-python",
   "name": "python",
   "nbconvert_exporter": "python",
   "pygments_lexer": "ipython3",
   "version": "3.13.5"
  }
 },
 "nbformat": 4,
 "nbformat_minor": 5
}
