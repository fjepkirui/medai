!pip install gymnasium
!pip install minigrid


import gymnasium as gym
import minigrid
from BasicObsWrapper import SimpleObsWrapper

env_name = 'MiniGrid-Empty-8x8-v0'
env = SimpleObsWrapper(gym.make(env_name, 
                               render_mode="rgb_array", 
                               highlight=False))



