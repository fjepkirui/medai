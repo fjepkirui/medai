




















dat = c(10,75,0,20,70,0,
        70,100,50,60,150,100,
        0,0,3,0,2,120,
        3,4,0,1,8,1,
        5,4,7,8,15,35)
dat=matrix(dat, ncol=5)
library(kableExtra)
colnames(dat) = c("Calories from Fat", "Total Calories", "Vitamin C (mg)", "Protein (g)", "Cost (c)")
rownames(dat) = c("Bread (1 slice)", "Peanut Butter (1 tbsp)", "Jam (1 tbsp)", "Cracker (1)",
                  "Milk (1 cup)", "Juice (1 cup)")
kable(dat, caption="")












